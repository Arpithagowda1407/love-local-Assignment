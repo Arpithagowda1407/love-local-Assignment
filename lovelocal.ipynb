{
  "nbformat": 4,
  "nbformat_minor": 0,
  "metadata": {
    "colab": {
      "provenance": [],
      "authorship_tag": "ABX9TyPJHj9E713MO9TqsLzgUhdG",
      "include_colab_link": true
    },
    "kernelspec": {
      "name": "python3",
      "display_name": "Python 3"
    },
    "language_info": {
      "name": "python"
    }
  },
  "cells": [
    {
      "cell_type": "markdown",
      "metadata": {
        "id": "view-in-github",
        "colab_type": "text"
      },
      "source": [
        "<a href=\"https://colab.research.google.com/github/Arpithagowda1407/love-local-Assignment/blob/main/lovelocal.ipynb\" target=\"_parent\"><img src=\"https://colab.research.google.com/assets/colab-badge.svg\" alt=\"Open In Colab\"/></a>"
      ]
    },
    {
      "cell_type": "code",
      "execution_count": null,
      "metadata": {
        "colab": {
          "base_uri": "https://localhost:8080/"
        },
        "id": "5co-iPEn38cB",
        "outputId": "ab8c8d55-d17e-4edb-ee2a-f0deb673cdca"
      },
      "outputs": [
        {
          "output_type": "stream",
          "name": "stdout",
          "text": [
            "[[1], [1, 1], [1, 2, 1], [1, 3, 3, 1], [1, 4, 6, 4, 1], [1, 5, 10, 10, 5, 1]]\n"
          ]
        }
      ],
      "source": [
        "#Easy 3\n",
        "def generate_pascals_triangle(numRows):\n",
        "    if numRows == 0:\n",
        "        return []\n",
        "    triangle = [[1]]\n",
        "    for i in range(1, numRows):\n",
        "        row = [1]\n",
        "        for j in range(1, i):\n",
        "            row.append(triangle[i - 1][j - 1] + triangle[i - 1][j])\n",
        "        row.append(1)\n",
        "        triangle.append(row)\n",
        "    return triangle\n",
        "numRows1 = 6\n",
        "result1 = generate_pascals_triangle(numRows1)\n",
        "print(result1)"
      ]
    },
    {
      "cell_type": "code",
      "source": [
        "#Medium 2\n",
        "def majority_elements(nums):\n",
        "    if not nums:\n",
        "        return []\n",
        "    candidate1, candidate2, count1, count2 = None, None, 0, 0\n",
        "    for num in nums:\n",
        "        if num == candidate1:\n",
        "            count1 += 1\n",
        "        elif num == candidate2:\n",
        "            count2 += 1\n",
        "        elif count1 == 0:\n",
        "            candidate1, count1 = num, 1\n",
        "        elif count2 == 0:\n",
        "            candidate2, count2 = num, 1\n",
        "        else:\n",
        "            count1 -= 1\n",
        "            count2 -= 1\n",
        "    count1 = count2 = 0\n",
        "    for num in nums:\n",
        "        if num == candidate1:\n",
        "            count1 += 1\n",
        "        elif num == candidate2:\n",
        "            count2 += 1\n",
        "    result = []\n",
        "    n = len(nums)\n",
        "    if count1 > n // 3:\n",
        "        result.append(candidate1)\n",
        "    if count2 > n // 3:\n",
        "        result.append(candidate2)\n",
        "    return result\n",
        "nums1 = [1,2,2]\n",
        "print(majority_elements(nums1))"
      ],
      "metadata": {
        "colab": {
          "base_uri": "https://localhost:8080/"
        },
        "id": "c5GTJUyx4PRU",
        "outputId": "d91ebbda-6474-4328-9e12-9d0c19e3beaf"
      },
      "execution_count": null,
      "outputs": [
        {
          "output_type": "stream",
          "name": "stdout",
          "text": [
            "[2]\n"
          ]
        }
      ]
    },
    {
      "cell_type": "code",
      "source": [
        "#Hard 2\n",
        "def shortest_palindrome(s):\n",
        "    if not s:\n",
        "        return \"\"\n",
        "    modified_string = s + \"#\" + s[::-1]\n",
        "    kmp_table = [0] * len(modified_string)\n",
        "    j = 0\n",
        "    for i in range(1, len(modified_string)):\n",
        "        while j > 0 and modified_string[i] != modified_string[j]:\n",
        "            j = kmp_table[j - 1]\n",
        "        if modified_string[i] == modified_string[j]:\n",
        "            j += 1\n",
        "        kmp_table[i] = j\n",
        "    length_of_matching_prefix = kmp_table[-1]\n",
        "    suffix = s[length_of_matching_prefix:]\n",
        "    return suffix[::-1] + s\n",
        "s1 = \"abcde\"\n",
        "print(shortest_palindrome(s1))"
      ],
      "metadata": {
        "colab": {
          "base_uri": "https://localhost:8080/"
        },
        "id": "2aaEoYwp5l34",
        "outputId": "dd178775-a3d2-40e5-c55e-1d52d104fd39"
      },
      "execution_count": null,
      "outputs": [
        {
          "output_type": "stream",
          "name": "stdout",
          "text": [
            "edcbabcde\n"
          ]
        }
      ]
    }
  ]
}